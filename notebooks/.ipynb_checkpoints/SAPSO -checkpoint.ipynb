{
 "cells": [
  {
   "cell_type": "code",
   "execution_count": 69,
   "metadata": {},
   "outputs": [],
   "source": [
    "import matplotlib.pyplot as plt\n",
    "import seaborn as sns\n",
    "import pandas as pd\n",
    "\n",
    "sns.set_style('whitegrid')\n",
    "plt.rcParams.update({'font.size': 13})"
   ]
  },
  {
   "cell_type": "markdown",
   "metadata": {},
   "source": [
    "### A study on Semi autonomous particle swarm optmizer <br/>comparing sequential and parallel gradient calculation\n",
    "\n",
    "### Table of contents:\n",
    "* [Mean Execution Time Comparison](#exec-times)<br/>\n",
    "* [Optmization Accuracy Comparison](#accuracy)<br/>\n",
    "* [Speedup](#speedup)<br/>\n",
    "* [Efficiency](#efficiency)<br/>\n",
    "* [Redundancy](#redundancy)<br/>\n",
    "* [Utilization](#utilization)<br/>\n",
    "* [Quality](#quality)<br/>\n",
    "\n",
    "### Problem Overview\n",
    "Lorem Ipsum is simply dummy text of the printing and typesetting industry. Lorem Ipsum has been the industry's standard dummy text ever since the 1500s, when an unknown printer took a galley of type and scrambled it to make a type specimen book. It has survived not only five centuries, but also the leap into electronic typesetting, remaining essentially unchanged. It was popularised in the 1960s with the release of Letraset sheets containing Lorem Ipsum passages, and more recently with desktop publishing software like Aldus PageMaker including versions of Lorem Ipsum.\n",
    "### Optmization parameters:\n",
    "    'n' : 100,                 # Number of Particles\n",
    "\t'm' : 3000,                # Iterations\n",
    "\t'stop' : 1e-10,            # Stop criterion\n",
    "\t'n_dimensions' : 5,        # Number of dimensions     \n",
    "\t'min_inertia' : .9,        # Inertial weight\n",
    "\t'max_inertia' : .4,        # Inertial weight\n",
    "\t'c1' : 2,                  # Cognitive coefficient\n",
    "\t'c2' : 2,                  # Social coefficient\n",
    "\t'c_max' : 3,               # Max consecutive evaluations before finish optmizing\n",
    "\t'epsilon' : 1e-2,          # If the algorithm cannot improve fitness it must stop\n",
    "\t'd_low' : .2,              # Lower threshold for diversity control\n",
    "\t'd_high' : .225,           # Upper threshold for diversity control"
   ]
  },
  {
   "cell_type": "code",
   "execution_count": 72,
   "metadata": {},
   "outputs": [
    {
     "name": "stdout",
     "output_type": "stream",
     "text": [
      "<class 'pandas.core.frame.DataFrame'>\n",
      "RangeIndex: 4620 entries, 0 to 4619\n",
      "Data columns (total 6 columns):\n",
      "parallel     4620 non-null bool\n",
      "f_name       4620 non-null object\n",
      "n_dims       4620 non-null int64\n",
      "min_found    4620 non-null float64\n",
      "n_iters      4620 non-null int64\n",
      "exec_time    4620 non-null float64\n",
      "dtypes: bool(1), float64(2), int64(2), object(1)\n",
      "memory usage: 185.1+ KB\n",
      "None\n"
     ]
    },
    {
     "data": {
      "text/html": [
       "<div>\n",
       "<style scoped>\n",
       "    .dataframe tbody tr th:only-of-type {\n",
       "        vertical-align: middle;\n",
       "    }\n",
       "\n",
       "    .dataframe tbody tr th {\n",
       "        vertical-align: top;\n",
       "    }\n",
       "\n",
       "    .dataframe thead th {\n",
       "        text-align: right;\n",
       "    }\n",
       "</style>\n",
       "<table border=\"1\" class=\"dataframe\">\n",
       "  <thead>\n",
       "    <tr style=\"text-align: right;\">\n",
       "      <th></th>\n",
       "      <th>parallel</th>\n",
       "      <th>f_name</th>\n",
       "      <th>n_dims</th>\n",
       "      <th>min_found</th>\n",
       "      <th>n_iters</th>\n",
       "      <th>exec_time</th>\n",
       "    </tr>\n",
       "  </thead>\n",
       "  <tbody>\n",
       "    <tr>\n",
       "      <th>0</th>\n",
       "      <td>False</td>\n",
       "      <td>sphere</td>\n",
       "      <td>2</td>\n",
       "      <td>0.0</td>\n",
       "      <td>201</td>\n",
       "      <td>2.374840</td>\n",
       "    </tr>\n",
       "    <tr>\n",
       "      <th>1</th>\n",
       "      <td>False</td>\n",
       "      <td>sphere</td>\n",
       "      <td>2</td>\n",
       "      <td>0.0</td>\n",
       "      <td>202</td>\n",
       "      <td>2.459458</td>\n",
       "    </tr>\n",
       "    <tr>\n",
       "      <th>2</th>\n",
       "      <td>False</td>\n",
       "      <td>sphere</td>\n",
       "      <td>2</td>\n",
       "      <td>0.0</td>\n",
       "      <td>202</td>\n",
       "      <td>2.437681</td>\n",
       "    </tr>\n",
       "    <tr>\n",
       "      <th>3</th>\n",
       "      <td>False</td>\n",
       "      <td>sphere</td>\n",
       "      <td>2</td>\n",
       "      <td>0.0</td>\n",
       "      <td>202</td>\n",
       "      <td>2.427665</td>\n",
       "    </tr>\n",
       "    <tr>\n",
       "      <th>4</th>\n",
       "      <td>False</td>\n",
       "      <td>sphere</td>\n",
       "      <td>2</td>\n",
       "      <td>0.0</td>\n",
       "      <td>201</td>\n",
       "      <td>2.484130</td>\n",
       "    </tr>\n",
       "  </tbody>\n",
       "</table>\n",
       "</div>"
      ],
      "text/plain": [
       "   parallel  f_name  n_dims  min_found  n_iters  exec_time\n",
       "0     False  sphere       2        0.0      201   2.374840\n",
       "1     False  sphere       2        0.0      202   2.459458\n",
       "2     False  sphere       2        0.0      202   2.437681\n",
       "3     False  sphere       2        0.0      202   2.427665\n",
       "4     False  sphere       2        0.0      201   2.484130"
      ]
     },
     "execution_count": 72,
     "metadata": {},
     "output_type": "execute_result"
    }
   ],
   "source": [
    "# Importing data\n",
    "url = 'sapso_exec_times_2.txt'\n",
    "df = pd.read_csv(url)\n",
    "df = df.drop(columns=['Unnamed: 6'])\n",
    "print(df.info())\n",
    "df.head(5)"
   ]
  },
  {
   "cell_type": "code",
   "execution_count": 9,
   "metadata": {},
   "outputs": [],
   "source": [
    "# Data filtering\n",
    "def query(parallel,operation):\n",
    "    query = df[df['parallel'] == parallel].groupby('n_dims')\n",
    "    \n",
    "    if operation == 'std':\n",
    "        return query['exec_time'].std()\n",
    "    elif operation == 'mean':\n",
    "        return query['exec_time'].mean()\n",
    "\n",
    "seq_mean = query(False,'mean')\n",
    "seq_std = query(False,'std')\n",
    "\n",
    "par_mean = query(True,'mean')\n",
    "par_std = query(True,'std')\n",
    "\n",
    "index = par_mean.index"
   ]
  },
  {
   "cell_type": "markdown",
   "metadata": {},
   "source": [
    "<a name=\"exec-times\"> </a>\n",
    "## Mean Execution Time Comparison"
   ]
  },
  {
   "cell_type": "code",
   "execution_count": 70,
   "metadata": {},
   "outputs": [
    {
     "data": {
      "text/plain": [
       "<matplotlib.legend.Legend at 0x7fac21ceb780>"
      ]
     },
     "execution_count": 70,
     "metadata": {},
     "output_type": "execute_result"
    },
    {
     "data": {
      "image/png": "[encoded data removed]",
      "text/plain": [
       "<Figure size 1440x576 with 1 Axes>"
      ]
     },
     "metadata": {},
     "output_type": "display_data"
    }
   ],
   "source": [
    "# Generating plot\n",
    "fig, ax = plt.subplots(figsize=(20,8))\n",
    "ax.set_ylim(bottom=0,top=4.5)\n",
    "bar_width = 6\n",
    "label1 = 'Sequential Gradient Calculation'\n",
    "label2 = 'Parallel Gradient Calculation'\n",
    "rects1 = ax.bar(index, seq_mean, bar_width,yerr=seq_std, label=label1)\n",
    "\n",
    "rects2 = ax.bar(index+bar_width, par_mean,bar_width, yerr=par_std, label=label2)\n",
    "\n",
    "ax.set_ylabel('Execution time (seconds)')\n",
    "ax.set_xlabel('Number of dimensions')\n",
    "ax.set_title('SAPSO mean execution time')\n",
    "ax.set_xticks(index)\n",
    "ax.set_xticklabels((str(n_dims) for n_dims in index))\n",
    "ax.legend()"
   ]
  },
  {
   "cell_type": "markdown",
   "metadata": {},
   "source": [
    "<a name=\"accuracy\"></a>\n",
    "## Optmization Accuracy Comparison"
   ]
  },
  {
   "cell_type": "code",
   "execution_count": 14,
   "metadata": {},
   "outputs": [],
   "source": [
    "def query(parallel,f_name):\n",
    "    '''Filtra o dataframe por condições especificadas nos args'''\n",
    "    return df.where((df['parallel']==parallel)&(df['f_name']==f_name)).dropna()\n",
    "\n",
    "fname_list = df['f_name'].unique()\n",
    "n_dims_list = df['n_dims'].unique()\n",
    "\n",
    "sequential = pd.DataFrame(index=n_dims_list)\n",
    "parallel =  pd.DataFrame(index=n_dims_list)\n",
    "sequential.index.name = 'n dims'\n",
    "parallel.index.name = 'n dims'\n",
    "\n",
    "for p in [True,False]:\n",
    "    for f in fname_list:\n",
    "        data = query(p,f)\n",
    "        if p:\n",
    "            parallel[f] = data.groupby('n_dims').mean()['min_found']\n",
    "        else:\n",
    "            sequential[f] = data.groupby('n_dims').mean()['min_found']"
   ]
  },
  {
   "cell_type": "markdown",
   "metadata": {},
   "source": [
    "### Both implementations had the same results on these tests:"
   ]
  },
  {
   "cell_type": "code",
   "execution_count": 66,
   "metadata": {},
   "outputs": [
    {
     "data": {
      "text/html": [
       "<div>\n",
       "<style scoped>\n",
       "    .dataframe tbody tr th:only-of-type {\n",
       "        vertical-align: middle;\n",
       "    }\n",
       "\n",
       "    .dataframe tbody tr th {\n",
       "        vertical-align: top;\n",
       "    }\n",
       "\n",
       "    .dataframe thead th {\n",
       "        text-align: right;\n",
       "    }\n",
       "</style>\n",
       "<table border=\"1\" class=\"dataframe\">\n",
       "  <thead>\n",
       "    <tr style=\"text-align: right;\">\n",
       "      <th></th>\n",
       "      <th>sphere</th>\n",
       "      <th>rastrigin</th>\n",
       "      <th>griewank</th>\n",
       "      <th>ackley</th>\n",
       "      <th>ellipsoid</th>\n",
       "      <th>alpine</th>\n",
       "    </tr>\n",
       "    <tr>\n",
       "      <th>n dims</th>\n",
       "      <th></th>\n",
       "      <th></th>\n",
       "      <th></th>\n",
       "      <th></th>\n",
       "      <th></th>\n",
       "      <th></th>\n",
       "    </tr>\n",
       "  </thead>\n",
       "  <tbody>\n",
       "    <tr>\n",
       "      <th>2</th>\n",
       "      <td>0.0</td>\n",
       "      <td>0.0</td>\n",
       "      <td>0.0</td>\n",
       "      <td>4.440892e-16</td>\n",
       "      <td>0.0</td>\n",
       "      <td>0.0</td>\n",
       "    </tr>\n",
       "    <tr>\n",
       "      <th>4</th>\n",
       "      <td>0.0</td>\n",
       "      <td>0.0</td>\n",
       "      <td>0.0</td>\n",
       "      <td>4.440892e-16</td>\n",
       "      <td>0.0</td>\n",
       "      <td>0.0</td>\n",
       "    </tr>\n",
       "    <tr>\n",
       "      <th>8</th>\n",
       "      <td>0.0</td>\n",
       "      <td>0.0</td>\n",
       "      <td>0.0</td>\n",
       "      <td>4.440892e-16</td>\n",
       "      <td>0.0</td>\n",
       "      <td>0.0</td>\n",
       "    </tr>\n",
       "    <tr>\n",
       "      <th>10</th>\n",
       "      <td>0.0</td>\n",
       "      <td>0.0</td>\n",
       "      <td>0.0</td>\n",
       "      <td>4.440892e-16</td>\n",
       "      <td>0.0</td>\n",
       "      <td>0.0</td>\n",
       "    </tr>\n",
       "    <tr>\n",
       "      <th>20</th>\n",
       "      <td>0.0</td>\n",
       "      <td>0.0</td>\n",
       "      <td>0.0</td>\n",
       "      <td>4.440892e-16</td>\n",
       "      <td>0.0</td>\n",
       "      <td>0.0</td>\n",
       "    </tr>\n",
       "    <tr>\n",
       "      <th>40</th>\n",
       "      <td>0.0</td>\n",
       "      <td>0.0</td>\n",
       "      <td>0.0</td>\n",
       "      <td>4.440892e-16</td>\n",
       "      <td>0.0</td>\n",
       "      <td>0.0</td>\n",
       "    </tr>\n",
       "    <tr>\n",
       "      <th>60</th>\n",
       "      <td>0.0</td>\n",
       "      <td>0.0</td>\n",
       "      <td>0.0</td>\n",
       "      <td>4.440892e-16</td>\n",
       "      <td>0.0</td>\n",
       "      <td>0.0</td>\n",
       "    </tr>\n",
       "    <tr>\n",
       "      <th>90</th>\n",
       "      <td>0.0</td>\n",
       "      <td>0.0</td>\n",
       "      <td>0.0</td>\n",
       "      <td>4.440892e-16</td>\n",
       "      <td>0.0</td>\n",
       "      <td>0.0</td>\n",
       "    </tr>\n",
       "    <tr>\n",
       "      <th>100</th>\n",
       "      <td>0.0</td>\n",
       "      <td>0.0</td>\n",
       "      <td>0.0</td>\n",
       "      <td>4.440892e-16</td>\n",
       "      <td>0.0</td>\n",
       "      <td>0.0</td>\n",
       "    </tr>\n",
       "    <tr>\n",
       "      <th>120</th>\n",
       "      <td>0.0</td>\n",
       "      <td>0.0</td>\n",
       "      <td>0.0</td>\n",
       "      <td>4.440892e-16</td>\n",
       "      <td>0.0</td>\n",
       "      <td>0.0</td>\n",
       "    </tr>\n",
       "    <tr>\n",
       "      <th>150</th>\n",
       "      <td>0.0</td>\n",
       "      <td>0.0</td>\n",
       "      <td>0.0</td>\n",
       "      <td>4.440892e-16</td>\n",
       "      <td>0.0</td>\n",
       "      <td>0.0</td>\n",
       "    </tr>\n",
       "  </tbody>\n",
       "</table>\n",
       "</div>"
      ],
      "text/plain": [
       "        sphere  rastrigin  griewank        ackley  ellipsoid  alpine\n",
       "n dims                                                              \n",
       "2          0.0        0.0       0.0  4.440892e-16        0.0     0.0\n",
       "4          0.0        0.0       0.0  4.440892e-16        0.0     0.0\n",
       "8          0.0        0.0       0.0  4.440892e-16        0.0     0.0\n",
       "10         0.0        0.0       0.0  4.440892e-16        0.0     0.0\n",
       "20         0.0        0.0       0.0  4.440892e-16        0.0     0.0\n",
       "40         0.0        0.0       0.0  4.440892e-16        0.0     0.0\n",
       "60         0.0        0.0       0.0  4.440892e-16        0.0     0.0\n",
       "90         0.0        0.0       0.0  4.440892e-16        0.0     0.0\n",
       "100        0.0        0.0       0.0  4.440892e-16        0.0     0.0\n",
       "120        0.0        0.0       0.0  4.440892e-16        0.0     0.0\n",
       "150        0.0        0.0       0.0  4.440892e-16        0.0     0.0"
      ]
     },
     "execution_count": 66,
     "metadata": {},
     "output_type": "execute_result"
    }
   ],
   "source": [
    "parallel[parallel == sequential].dropna(axis='columns')"
   ]
  },
  {
   "cell_type": "markdown",
   "metadata": {},
   "source": [
    "### Sequential gradient calculation implementation performed better on these tests:"
   ]
  },
  {
   "cell_type": "code",
   "execution_count": 63,
   "metadata": {},
   "outputs": [
    {
     "data": {
      "text/html": [
       "<div>\n",
       "<style scoped>\n",
       "    .dataframe tbody tr th:only-of-type {\n",
       "        vertical-align: middle;\n",
       "    }\n",
       "\n",
       "    .dataframe tbody tr th {\n",
       "        vertical-align: top;\n",
       "    }\n",
       "\n",
       "    .dataframe thead th {\n",
       "        text-align: right;\n",
       "    }\n",
       "</style>\n",
       "<table border=\"1\" class=\"dataframe\">\n",
       "  <thead>\n",
       "    <tr style=\"text-align: right;\">\n",
       "      <th></th>\n",
       "      <th>rosenbrock</th>\n",
       "    </tr>\n",
       "    <tr>\n",
       "      <th>n dims</th>\n",
       "      <th></th>\n",
       "    </tr>\n",
       "  </thead>\n",
       "  <tbody>\n",
       "    <tr>\n",
       "      <th>2</th>\n",
       "      <td>0.000005</td>\n",
       "    </tr>\n",
       "    <tr>\n",
       "      <th>20</th>\n",
       "      <td>0.000005</td>\n",
       "    </tr>\n",
       "    <tr>\n",
       "      <th>60</th>\n",
       "      <td>0.000006</td>\n",
       "    </tr>\n",
       "    <tr>\n",
       "      <th>90</th>\n",
       "      <td>0.000004</td>\n",
       "    </tr>\n",
       "    <tr>\n",
       "      <th>100</th>\n",
       "      <td>0.000006</td>\n",
       "    </tr>\n",
       "    <tr>\n",
       "      <th>150</th>\n",
       "      <td>0.000003</td>\n",
       "    </tr>\n",
       "  </tbody>\n",
       "</table>\n",
       "</div>"
      ],
      "text/plain": [
       "        rosenbrock\n",
       "n dims            \n",
       "2         0.000005\n",
       "20        0.000005\n",
       "60        0.000006\n",
       "90        0.000004\n",
       "100       0.000006\n",
       "150       0.000003"
      ]
     },
     "execution_count": 63,
     "metadata": {},
     "output_type": "execute_result"
    }
   ],
   "source": [
    "sequential[sequential<parallel].dropna(thresh=1).dropna(axis='columns')"
   ]
  },
  {
   "cell_type": "markdown",
   "metadata": {},
   "source": [
    "### Parallel gradient calculation implementation performed better on these tests:"
   ]
  },
  {
   "cell_type": "code",
   "execution_count": 65,
   "metadata": {},
   "outputs": [
    {
     "data": {
      "text/html": [
       "<div>\n",
       "<style scoped>\n",
       "    .dataframe tbody tr th:only-of-type {\n",
       "        vertical-align: middle;\n",
       "    }\n",
       "\n",
       "    .dataframe tbody tr th {\n",
       "        vertical-align: top;\n",
       "    }\n",
       "\n",
       "    .dataframe thead th {\n",
       "        text-align: right;\n",
       "    }\n",
       "</style>\n",
       "<table border=\"1\" class=\"dataframe\">\n",
       "  <thead>\n",
       "    <tr style=\"text-align: right;\">\n",
       "      <th></th>\n",
       "      <th>rosenbrock</th>\n",
       "    </tr>\n",
       "    <tr>\n",
       "      <th>n dims</th>\n",
       "      <th></th>\n",
       "    </tr>\n",
       "  </thead>\n",
       "  <tbody>\n",
       "    <tr>\n",
       "      <th>4</th>\n",
       "      <td>0.000009</td>\n",
       "    </tr>\n",
       "    <tr>\n",
       "      <th>8</th>\n",
       "      <td>0.000007</td>\n",
       "    </tr>\n",
       "    <tr>\n",
       "      <th>10</th>\n",
       "      <td>0.000009</td>\n",
       "    </tr>\n",
       "    <tr>\n",
       "      <th>40</th>\n",
       "      <td>0.000004</td>\n",
       "    </tr>\n",
       "    <tr>\n",
       "      <th>120</th>\n",
       "      <td>0.000006</td>\n",
       "    </tr>\n",
       "  </tbody>\n",
       "</table>\n",
       "</div>"
      ],
      "text/plain": [
       "        rosenbrock\n",
       "n dims            \n",
       "4         0.000009\n",
       "8         0.000007\n",
       "10        0.000009\n",
       "40        0.000004\n",
       "120       0.000006"
      ]
     },
     "execution_count": 65,
     "metadata": {},
     "output_type": "execute_result"
    }
   ],
   "source": [
    "sequential[sequential>parallel].dropna(thresh=1).dropna(axis='columns')"
   ]
  },
  {
   "cell_type": "markdown",
   "metadata": {},
   "source": [
    "### An important observation:\n",
    "#### Independetly of implementation of gradient calculation sapso will have the same performance on optmization. That's why in most test they perform identically. Tests where one implementation performed better than another are cause most probably by the algorithm stochasticity factor"
   ]
  },
  {
   "cell_type": "markdown",
   "metadata": {},
   "source": [
    "#### <br/>"
   ]
  },
  {
   "cell_type": "markdown",
   "metadata": {},
   "source": [
    "<a name=\"speedup\"></a>\n",
    "## Speedup\n",
    "#### Speedup is a measure of performance. It measures the ration between the sequential execution time and the parallel execution time\n",
    "\n",
    "\\begin{equation*}\n",
    "S(p)   = \\frac{T(1)} {T(p)}\n",
    "\\end{equation*}\n",
    "\n",
    "##### T(1) is the execution time with one processor\n",
    "##### T(p) is the execution time with p processors"
   ]
  },
  {
   "cell_type": "code",
   "execution_count": 74,
   "metadata": {},
   "outputs": [],
   "source": [
    "# gerar a tabela do speed up aqui abaixo"
   ]
  },
  {
   "cell_type": "markdown",
   "metadata": {},
   "source": [
    "<br/>"
   ]
  },
  {
   "cell_type": "markdown",
   "metadata": {},
   "source": [
    "<a name=\"efficiency\"></a>\n",
    "## Efficiency\n",
    "#### Efficiency is a measure of the usage of the computational resources. It measures the ratio between performance and the resources used to achieve that performance\n",
    "\n",
    "\\begin{equation*}\n",
    "E(p)   = \\frac{S(p)} {p} = \\frac{T(1)} {p T(p)}\n",
    "\\end{equation*}\n",
    "\n",
    "##### S(p) is the speedup for p processors\n",
    "\n",
    "\n",
    "\n"
   ]
  },
  {
   "cell_type": "code",
   "execution_count": 76,
   "metadata": {},
   "outputs": [],
   "source": [
    "# insere a tabela da eficiência aqui"
   ]
  },
  {
   "cell_type": "markdown",
   "metadata": {},
   "source": [
    "<br/>"
   ]
  },
  {
   "cell_type": "markdown",
   "metadata": {},
   "source": [
    "<a name=\"redundancy\"></a>\n",
    "## Redundancy\n",
    "#### Redundancy measures the increase in the required computation when using moreprocessors. It measures the ration between the number of operations performed bythe parallel execution and by the sequential execution.\n",
    "\n",
    "\\begin{equation*}\n",
    "R(p) = \\frac{O(p)} {O(1)} \n",
    "\\end{equation*}\n",
    "\n",
    "##### O(1) is the total number of operations performed with 1 processor\n",
    "##### O(p) is the total number of operations performed with p processors"
   ]
  },
  {
   "cell_type": "markdown",
   "metadata": {},
   "source": [
    "<br/>"
   ]
  },
  {
   "cell_type": "markdown",
   "metadata": {},
   "source": [
    "<a name=\"utilization\"></a>\n",
    "## Utilization\n",
    "#### Utilization is a measure of the good use of the computational capacity. It measures the ratio between the computational capacity utilized during execution and the capacity that was available.\n",
    "\n",
    "\\begin{equation*}\n",
    "U(p) = \\frac{R(p)} {E(p)} \n",
    "\\end{equation*}"
   ]
  }
 ],
 "metadata": {
  "kernelspec": {
   "display_name": "Python 3",
   "language": "python",
   "name": "python3"
  },
  "language_info": {
   "codemirror_mode": {
    "name": "ipython",
    "version": 3
   },
   "file_extension": ".py",
   "mimetype": "text/x-python",
   "name": "python",
   "nbconvert_exporter": "python",
   "pygments_lexer": "ipython3",
   "version": "3.6.8"
  }
 },
 "nbformat": 4,
 "nbformat_minor": 2
}
